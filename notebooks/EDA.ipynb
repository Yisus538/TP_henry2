{
 "cells": [
  {
   "cell_type": "code",
   "execution_count": 37,
   "metadata": {},
   "outputs": [],
   "source": [
    "import pandas as pd"
   ]
  },
  {
   "cell_type": "code",
   "execution_count": 47,
   "metadata": {},
   "outputs": [],
   "source": [
    "def load_excel_sheets(file_path, sheet_names):\n",
    "    dataframes = {}\n",
    "    for sheet_name in sheet_names:\n",
    "        dataframes[sheet_name] = pd.read_excel(file_path, sheet_name=sheet_name)\n",
    "    return dataframes"
   ]
  },
  {
   "cell_type": "code",
   "execution_count": 39,
   "metadata": {},
   "outputs": [],
   "source": [
    "file_path = '../data/raw/Internet.xlsx'\n",
    "sheet_names = [\n",
    "    'Acc_vel_loc_sinrangos',\n",
    "    'Velocidad_sin_Rangos',\n",
    "    'Accesos_tecnologia_localidad',\n",
    "    'Velocidad % por prov',\n",
    "    'Totales VMD',\n",
    "    'Totales Accesos Por Tecnología',\n",
    "    'Accesos Por Tecnología',\n",
    "    'Penetración-poblacion',\n",
    "    'Penetracion-hogares',\n",
    "    'Penetracion-totales',\n",
    "    'Totales Accesos por velocidad',\n",
    "    'Accesos por velocidad',\n",
    "    'Dial-BAf',\n",
    "    'Totales Dial-BAf',\n",
    "    'Ingresos '\n",
    "]"
   ]
  },
  {
   "cell_type": "code",
   "execution_count": 46,
   "metadata": {},
   "outputs": [],
   "source": [
    "# Carga de DataFrames\n",
    "dataframes = load_excel_sheets(file_path, sheet_names)\n",
    "\n",
    "# # Acceso a cada DataFrames específicos\n",
    "df1 = dataframes['Acc_vel_loc_sinrangos']\n",
    "df2 = dataframes['Velocidad_sin_Rangos']\n",
    "df3 = dataframes['Accesos_tecnologia_localidad']\n",
    "df4 = dataframes['Velocidad % por prov']\n",
    "df5 = dataframes['Totales VMD']\n",
    "df6 = dataframes['Totales Accesos Por Tecnología']\n",
    "df7 = dataframes['Accesos Por Tecnología']\n",
    "df8 = dataframes['Penetración-poblacion']\n",
    "df9 = dataframes['Penetracion-hogares']\n",
    "df10 = dataframes['Penetracion-totales']\n",
    "df11 = dataframes['Totales Accesos por velocidad']\n",
    "df12 = dataframes['Accesos por velocidad']\n",
    "df13 = dataframes['Dial-BAf']\n",
    "df14 = dataframes['Totales Dial-BAf']\n",
    "df15 = dataframes['Ingresos ']"
   ]
  }
 ],
 "metadata": {
  "kernelspec": {
   "display_name": "venv",
   "language": "python",
   "name": "python3"
  },
  "language_info": {
   "codemirror_mode": {
    "name": "ipython",
    "version": 3
   },
   "file_extension": ".py",
   "mimetype": "text/x-python",
   "name": "python",
   "nbconvert_exporter": "python",
   "pygments_lexer": "ipython3",
   "version": "3.12.4"
  }
 },
 "nbformat": 4,
 "nbformat_minor": 2
}
