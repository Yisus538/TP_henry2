{
 "cells": [
  {
   "cell_type": "code",
   "execution_count": null,
   "metadata": {},
   "outputs": [],
   "source": [
    "import pandas as pd\n",
    "import matplotlib.pyplot as plt\n",
    "import numpy as np\n",
    "import seaborn as sns"
   ]
  },
  {
   "cell_type": "code",
   "execution_count": null,
   "metadata": {},
   "outputs": [],
   "source": [
    "poblacion_df = pd.read_csv('../data/processed/Penetración-poblacion-limpio.csv')\n",
    "hogares_df = pd.read_csv('../data/processed/penetracion-hogares-limpio.csv')\n",
    "Accesos_Por_Tecnologia = pd.read_csv('../data/processed/accesos_por_tecnologia_limpio.csv')\n",
    "penetracion_total_df = pd.read_csv('../data/processed/Penetracion-totales.csv')"
   ]
  },
  {
   "cell_type": "code",
   "execution_count": null,
   "metadata": {},
   "outputs": [],
   "source": [
    "Accesos_Por_Tecnologia[\"ADSL_log\"] = np.log(Accesos_Por_Tecnologia[\"ADSL\"] + 1)  # +1 para evitar log(0)\n",
    "fig, axes = plt.subplots(1, 3, figsize=(18, 6))\n",
    "\n",
    "# Histograma\n",
    "sns.histplot(data=Accesos_Por_Tecnologia, x=\"ADSL_log\", bins=30, ax=axes[0])\n",
    "axes[0].set_title('Histograma de ADSL_LOG')\n",
    "\n",
    "# Gráfico de violín\n",
    "sns.violinplot(data=Accesos_Por_Tecnologia, x=\"ADSL_log\", ax=axes[1])\n",
    "axes[1].set_title('Gráfico de violín de ADSL_LOG')\n",
    "\n",
    "#Gráfico de dispersion\n",
    "sns.boxplot(data=Accesos_Por_Tecnologia, x=\"ADSL_log\",ax=axes[2])\n",
    "axes[2].set_title('Gráfico de dispersion ADSL_LOG')\n",
    "# Mostrar los gráficos\n",
    "plt.tight_layout()\n",
    "plt.show()"
   ]
  },
  {
   "cell_type": "code",
   "execution_count": null,
   "metadata": {},
   "outputs": [],
   "source": [
    "sns.boxplot(data=hogares_df, x=\"Accesos por cada 100 hogares\", y=\"Provincia\")\n",
    "plt.xlabel(\"Porcentaje de Accesos por cada 100 hogares\")\n",
    "plt.show()"
   ]
  },
  {
   "cell_type": "code",
   "execution_count": null,
   "metadata": {},
   "outputs": [],
   "source": [
    "# Crear el diagrama de caja utilizando seaborn\n",
    "sns.boxplot(data=poblacion_df, x=\"Accesos por cada 100 hab\", y=\"Provincia\")\n",
    "\n",
    "# Etiqueta para el eje x\n",
    "plt.xlabel(\"Porcentaje de Accesos por cada 100 hab\")\n",
    "\n",
    "# Mostrar el gráfico\n",
    "plt.show()"
   ]
  },
  {
   "cell_type": "code",
   "execution_count": null,
   "metadata": {},
   "outputs": [],
   "source": [
    "# Filtrar datos para la provincia de \"Capital Federal\"\n",
    "capital_federal = poblacion_df[poblacion_df[\"Provincia\"] == \"Capital Federal\"]\n",
    "\n",
    "# Crear el gráfico de regresión utilizando seaborn\n",
    "sns.regplot(x=\"Año\", y=\"Accesos por cada 100 hab\", data=capital_federal)\n",
    "\n",
    "# Establecer el rango de los ticks en el eje x\n",
    "plt.xticks(range(2014, 2024))\n",
    "\n",
    "# Etiquetas para los ejes y título\n",
    "plt.xlabel('Año')\n",
    "plt.ylabel('Porcentaje de Accesos por cada 100 hab')\n",
    "plt.title('Regresión de Accesos por cada 100 hab en Capital Federal')\n",
    "\n",
    "# Mostrar el gráfico\n",
    "plt.show()"
   ]
  },
  {
   "cell_type": "code",
   "execution_count": null,
   "metadata": {},
   "outputs": [],
   "source": [
    "df_Penetracion_totales_comparacion = penetracion_total_df[[\"Año\",\"Trimestre\",\"Accesos por cada 100 hab\"]]"
   ]
  },
  {
   "cell_type": "code",
   "execution_count": null,
   "metadata": {},
   "outputs": [],
   "source": [
    "df_trimestre1 = df_Penetracion_totales_comparacion[df_Penetracion_totales_comparacion['Trimestre'] == 1]\n",
    "df_trimestre2 = df_Penetracion_totales_comparacion[df_Penetracion_totales_comparacion['Trimestre'] == 2]\n",
    "df_trimestre3 = df_Penetracion_totales_comparacion[df_Penetracion_totales_comparacion['Trimestre'] == 3]\n",
    "df_trimestre4 = df_Penetracion_totales_comparacion[df_Penetracion_totales_comparacion['Trimestre'] == 4]"
   ]
  },
  {
   "cell_type": "code",
   "execution_count": null,
   "metadata": {},
   "outputs": [],
   "source": [
    "# Crear subplots\n",
    "fig, axs = plt.subplots(2, 2, figsize=(14, 10))\n",
    "\n",
    "# Trimestre 1 vs Trimestre 2\n",
    "axs[0, 0].plot(df_trimestre1['Año'], df_trimestre1['Accesos por cada 100 hab'], marker='o', label='Trimestre 1')\n",
    "axs[0, 0].set_title('Trimestre 1')\n",
    "axs[0, 0].set_xlabel('Año')\n",
    "axs[0, 0].set_ylabel('Acceso por cada 100 habitantes (porcentaje)')\n",
    "axs[0, 0].set_xticks(range(2014, 2024))\n",
    "axs[0, 0].legend()\n",
    "axs[0, 0].grid(True)\n",
    "\n",
    "# Trimestre 3 vs Trimestre 4\n",
    "axs[0, 1].plot(df_trimestre2['Año'], df_trimestre2['Accesos por cada 100 hab'], marker='o', label='Trimestre 2')\n",
    "axs[0, 1].set_title('Trimestre 2')\n",
    "axs[0, 1].set_xlabel('Año')\n",
    "axs[0, 1].set_ylabel('Acceso por cada 100 habitantes (porcentaje)')\n",
    "axs[0, 1].set_xticks(range(2014, 2024))\n",
    "axs[0, 1].legend()\n",
    "axs[0, 1].grid(True)\n",
    "\n",
    "# Trimestre 1 vs Trimestre 3\n",
    "axs[1, 0].plot(df_trimestre3['Año'], df_trimestre3['Accesos por cada 100 hab'], marker='o', label='Trimestre 3')\n",
    "axs[1, 0].set_title('Trimestre 3')\n",
    "axs[1, 0].set_xlabel('Año')\n",
    "axs[1, 0].set_ylabel('Acceso por cada 100 habitantes (porcentaje)')\n",
    "axs[1, 0].set_xticks(range(2014, 2024))\n",
    "axs[1, 0].legend()\n",
    "axs[1, 0].grid(True)\n",
    "\n",
    "# Trimestre 2 vs Trimestre 4\n",
    "axs[1, 1].plot(df_trimestre4['Año'], df_trimestre4['Accesos por cada 100 hab'], marker='o', label='Trimestre 4')\n",
    "axs[1, 1].set_title('Trimestre 4')\n",
    "axs[1, 1].set_xlabel('Año')\n",
    "axs[1, 1].set_ylabel('Acceso por cada 100 habitantes (porcentaje)')\n",
    "axs[1, 1].set_xticks(range(2014, 2024))\n",
    "axs[1, 1].legend()\n",
    "axs[1, 1].grid(True)\n",
    "\n",
    "# Ajustar el layout\n",
    "plt.tight_layout()\n",
    "plt.show()"
   ]
  },
  {
   "cell_type": "code",
   "execution_count": null,
   "metadata": {},
   "outputs": [],
   "source": [
    "# Calcular el promedio de accesos por cada 100 hogares por provincia\n",
    "kpi_hogares_provincia = hogares_df.groupby('Provincia')['Accesos por cada 100 hogares'].mean().round(2)\n",
    "\n",
    "# Calcular el promedio de accesos por cada 100 hogares a nivel nacional\n",
    "kpi_hogares_nacional = hogares_df['Accesos por cada 100 hogares'].mean().round(2)\n",
    "\n",
    "# Crear un DataFrame con los resultados\n",
    "resultados_df = pd.DataFrame({\n",
    "    'Provincia': kpi_hogares_provincia.index,\n",
    "    'Promedio de Accesos por cada 100 hogares': kpi_hogares_provincia.values\n",
    "})\n",
    "\n",
    "# Añadir una fila adicional para el promedio nacional\n",
    "resultados_df.loc[len(resultados_df)] = ['Nacional', kpi_hogares_nacional]\n",
    "\n",
    "# Guardar el DataFrame en un archivo CSV\n",
    "resultados_df.to_csv('../data/processed/promedio_accesos_hogares.csv', index=False)\n",
    "\n",
    "# Leer el CSV y mostrar los resultados para verificar\n",
    "resultados_leidos = pd.read_csv('../data/processed/promedio_accesos_hogares.csv')\n",
    "print(resultados_leidos)"
   ]
  },
  {
   "cell_type": "code",
   "execution_count": null,
   "metadata": {},
   "outputs": [],
   "source": [
    "# Calcular el promedio de accesos por cada 100 hogares por provincia\n",
    "kpi_poblacion_provincia = poblacion_df.groupby('Provincia')['Accesos por cada 100 hab'].mean().round(2)\n",
    "\n",
    "# Calcular el promedio de accesos por cada 100 poblacion a nivel nacional\n",
    "kpi_poblacion_nacional = poblacion_df['Accesos por cada 100 hab'].mean().round(2)\n",
    "\n",
    "# Crear un DataFrame con los resultados\n",
    "resultados_df = pd.DataFrame({\n",
    "    'Provincia': kpi_poblacion_provincia.index,\n",
    "    'Promedio de Accesos por cada 100 hab': kpi_poblacion_provincia.values\n",
    "})\n",
    "\n",
    "# Añadir una fila adicional para el promedio nacional\n",
    "resultados_df.loc[len(resultados_df)] = ['Nacional', kpi_hogares_nacional]\n",
    "\n",
    "# Guardar el DataFrame en un archivo CSV\n",
    "resultados_df.to_csv('../data/processed/promedio_accesos_poblacion.csv', index=False)\n",
    "\n",
    "# Leer el CSV y mostrar los resultados para verificar\n",
    "resultados_leidos = pd.read_csv('../data/processed/promedio_accesos_poblacion.csv')\n",
    "print(resultados_leidos)\n"
   ]
  }
 ],
 "metadata": {
  "kernelspec": {
   "display_name": "venv",
   "language": "python",
   "name": "python3"
  },
  "language_info": {
   "codemirror_mode": {
    "name": "ipython",
    "version": 3
   },
   "file_extension": ".py",
   "mimetype": "text/x-python",
   "name": "python",
   "nbconvert_exporter": "python",
   "pygments_lexer": "ipython3",
   "version": "3.12.4"
  }
 },
 "nbformat": 4,
 "nbformat_minor": 2
}
