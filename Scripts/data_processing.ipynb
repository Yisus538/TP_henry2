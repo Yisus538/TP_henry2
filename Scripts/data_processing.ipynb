{
 "cells": [
  {
   "cell_type": "code",
   "execution_count": 7,
   "metadata": {},
   "outputs": [
    {
     "ename": "ModuleNotFoundError",
     "evalue": "No module named 'data_manager'",
     "output_type": "error",
     "traceback": [
      "\u001b[1;31m---------------------------------------------------------------------------\u001b[0m",
      "\u001b[1;31mModuleNotFoundError\u001b[0m                       Traceback (most recent call last)",
      "Cell \u001b[1;32mIn[7], line 3\u001b[0m\n\u001b[0;32m      1\u001b[0m \u001b[38;5;28;01mimport\u001b[39;00m \u001b[38;5;21;01mpandas\u001b[39;00m \u001b[38;5;28;01mas\u001b[39;00m \u001b[38;5;21;01mpd\u001b[39;00m\n\u001b[0;32m      2\u001b[0m \u001b[38;5;28;01mimport\u001b[39;00m \u001b[38;5;21;01mos\u001b[39;00m\n\u001b[1;32m----> 3\u001b[0m \u001b[38;5;28;01mfrom\u001b[39;00m \u001b[38;5;21;01mdata_manager\u001b[39;00m \u001b[38;5;28;01mimport\u001b[39;00m DataFileManager\n",
      "\u001b[1;31mModuleNotFoundError\u001b[0m: No module named 'data_manager'"
     ]
    }
   ],
   "source": [
    "import pandas as pd\n",
    "import os\n",
    "from data_manager import DataFileManager"
   ]
  },
  {
   "cell_type": "code",
   "execution_count": null,
   "metadata": {},
   "outputs": [],
   "source": [
    "# Funcion encargada de abrir y guardar cada hoja en una columna de dataframe\n",
    "def load_excel_sheets(file_path, sheet_names):\n",
    "    dataframes = {}\n",
    "    for sheet_name in sheet_names:\n",
    "        dataframes[sheet_name] = pd.read_excel(file_path, sheet_name=sheet_name)\n",
    "    return dataframes\n",
    "\n",
    "df = DataFileManager()"
   ]
  },
  {
   "cell_type": "code",
   "execution_count": null,
   "metadata": {},
   "outputs": [],
   "source": [
    "# Datos para implementacion de funcion load_excel_sheets\n",
    "file_path = '../data/raw/Internet.xlsx'\n",
    "sheet_names = [\n",
    "    'Acc_vel_loc_sinrangos',\n",
    "    'Velocidad_sin_Rangos',\n",
    "    'Accesos_tecnologia_localidad',\n",
    "    'Velocidad % por prov',\n",
    "    'Totales VMD',\n",
    "    'Totales Accesos Por Tecnología',\n",
    "    'Accesos Por Tecnología',\n",
    "    'Penetración-poblacion',\n",
    "    'Penetracion-hogares',\n",
    "    'Penetracion-totales',\n",
    "    'Totales Accesos por velocidad',\n",
    "    'Accesos por velocidad',\n",
    "    'Dial-BAf',\n",
    "    'Totales Dial-BAf',\n",
    "    'Ingresos '\n",
    "]"
   ]
  },
  {
   "cell_type": "code",
   "execution_count": null,
   "metadata": {},
   "outputs": [],
   "source": [
    "# Carga de DataFrames\n",
    "dataframes = load_excel_sheets(file_path, sheet_names)"
   ]
  },
  {
   "cell_type": "code",
   "execution_count": null,
   "metadata": {},
   "outputs": [],
   "source": [
    "def save_dataframes(dataframes, output_folder, file_format='xlsx'):\n",
    "    # Veo si la carpeta existe sino la creo \n",
    "    if not os.path.exists(output_folder):\n",
    "        os.makedirs(output_folder)\n",
    "    \n",
    "    for name, df in dataframes.items():\n",
    "        # Define la ruta completa del archivo con la extensión apropiada\n",
    "        file_path = f'{output_folder}/{name}.{file_format}'\n",
    "        \n",
    "        # Guarda en formato Excel o CSV según la extensión\n",
    "        if file_format == 'xlsx':\n",
    "            df.to_excel(file_path, index=False)\n",
    "        elif file_format == 'csv':\n",
    "            df.to_csv(file_path, index=False)\n",
    "        else:\n",
    "            print(f'Formato no soportado: {file_format}')\n",
    "            continue\n",
    "        \n",
    "        print(f'Archivo {name} creado exitosamente')"
   ]
  },
  {
   "cell_type": "code",
   "execution_count": null,
   "metadata": {},
   "outputs": [],
   "source": [
    "save_dataframes(dataframes,'../data/raw/',file_format='csv')"
   ]
  }
 ],
 "metadata": {
  "kernelspec": {
   "display_name": "venv",
   "language": "python",
   "name": "python3"
  },
  "language_info": {
   "codemirror_mode": {
    "name": "ipython",
    "version": 3
   },
   "file_extension": ".py",
   "mimetype": "text/x-python",
   "name": "python",
   "nbconvert_exporter": "python",
   "pygments_lexer": "ipython3",
   "version": "3.12.4"
  }
 },
 "nbformat": 4,
 "nbformat_minor": 2
}
